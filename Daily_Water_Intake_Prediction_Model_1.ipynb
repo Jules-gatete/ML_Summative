{
  "nbformat": 4,
  "nbformat_minor": 0,
  "metadata": {
    "colab": {
      "provenance": [],
      "authorship_tag": "ABX9TyPE5FLbnEciCk5QG0SADJ8W",
      "include_colab_link": true
    },
    "kernelspec": {
      "name": "python3",
      "display_name": "Python 3"
    },
    "language_info": {
      "name": "python"
    }
  },
  "cells": [
    {
      "cell_type": "markdown",
      "metadata": {
        "id": "view-in-github",
        "colab_type": "text"
      },
      "source": [
        "<a href=\"https://colab.research.google.com/github/Jules-gatete/ML_Summative/blob/main/Daily_Water_Intake_Prediction_Model_1.ipynb\" target=\"_parent\"><img src=\"https://colab.research.google.com/assets/colab-badge.svg\" alt=\"Open In Colab\"/></a>"
      ]
    },
    {
      "cell_type": "code",
      "execution_count": null,
      "metadata": {
        "id": "wj67fgRbDY_y"
      },
      "outputs": [],
      "source": [
        "import numpy as np\n",
        "import pandas as pd\n",
        "from sklearn.model_selection import train_test_split\n",
        "from sklearn.ensemble import RandomForestRegressor\n",
        "from sklearn.preprocessing import OneHotEncoder\n",
        "from sklearn.compose import ColumnTransformer\n",
        "from sklearn.pipeline import Pipeline\n",
        "from sklearn.impute import SimpleImputer\n",
        "import matplotlib.pyplot as plt\n",
        "import seaborn as sns\n",
        "from sklearn.linear_model import LinearRegression\n",
        "from sklearn.metrics import mean_absolute_error, mean_squared_error\n",
        "from sklearn.preprocessing import LabelEncoder, MinMaxScaler, StandardScaler\n",
        "from sklearn.model_selection import train_test_split\n",
        "from sklearn.ensemble import RandomForestRegressor\n",
        "import joblib"
      ]
    },
    {
      "cell_type": "markdown",
      "source": [
        "**loading the Data**"
      ],
      "metadata": {
        "id": "JRrIlrqLg-b8"
      }
    },
    {
      "cell_type": "code",
      "source": [
        "# Load the dataset\n",
        "file_path = \"/content/gym_members_exercise_tracking.csv\"\n",
        "data = pd.read_csv(file_path)\n",
        "\n",
        "# check the first few rows of the dataset\n",
        "data.head()"
      ],
      "metadata": {
        "id": "qrVSi5PDg0_H"
      },
      "execution_count": null,
      "outputs": []
    },
    {
      "cell_type": "code",
      "source": [
        "# Select relevant features for training (ensure only 5 features are used)\n",
        "features = ['Age', 'Gender', 'Height (m)', 'Weight (kg)', 'Workout_Type']\n",
        "target = 'Water_Intake (liters)'\n"
      ],
      "metadata": {
        "id": "ysKKbMUvg2pz"
      },
      "execution_count": null,
      "outputs": []
    },
    {
      "cell_type": "code",
      "source": [
        "# Prepare data\n",
        "X = data[features]\n",
        "y = data[target]\n",
        "\n",
        "# Convert to DataFrame (ensure it's a DataFrame)\n",
        "X = pd.DataFrame(X, columns=features)\n"
      ],
      "metadata": {
        "id": "Opx1pKojjPBO"
      },
      "execution_count": null,
      "outputs": []
    },
    {
      "cell_type": "code",
      "source": [
        "#description of data\n",
        "data.describe()\n"
      ],
      "metadata": {
        "id": "ylvPjmNKhpGW"
      },
      "execution_count": null,
      "outputs": []
    },
    {
      "cell_type": "code",
      "source": [
        "# get information about the dataset\n",
        "data.info()"
      ],
      "metadata": {
        "id": "koTxZs1Uh7wK"
      },
      "execution_count": null,
      "outputs": []
    },
    {
      "cell_type": "code",
      "source": [
        "# Check for missing values\n",
        "missing_values = data.isnull().sum()\n",
        "print(missing_values)"
      ],
      "metadata": {
        "id": "0z6ROf7zifdJ"
      },
      "execution_count": null,
      "outputs": []
    },
    {
      "cell_type": "code",
      "source": [
        "# Plot the distribution of the data\n",
        "data.hist()\n",
        "plt.show()"
      ],
      "metadata": {
        "id": "tU76IImdilgc"
      },
      "execution_count": null,
      "outputs": []
    },
    {
      "cell_type": "code",
      "source": [
        "# Get the categorical and numerical data\n",
        "categorical_data = data.select_dtypes(include=['object'])\n",
        "numerical_data = data.select_dtypes(include=['float64', 'int64'])\n",
        "\n",
        "print(categorical_data.head())"
      ],
      "metadata": {
        "id": "oP0Ks6ddeu5y"
      },
      "execution_count": null,
      "outputs": []
    },
    {
      "cell_type": "code",
      "source": [
        "label_encoder = LabelEncoder()"
      ],
      "metadata": {
        "id": "8twEmqsjfCPe"
      },
      "execution_count": null,
      "outputs": []
    },
    {
      "cell_type": "code",
      "source": [
        "# see the new data\n",
        "data.head()"
      ],
      "metadata": {
        "id": "gb33Dl00sBJZ"
      },
      "execution_count": null,
      "outputs": []
    },
    {
      "cell_type": "code",
      "source": [
        "label_encoder_gender = LabelEncoder()\n",
        "label_encoder_workout_type = LabelEncoder()\n",
        "\n",
        "# Encode the categorical variables\n",
        "data['Gender'] = label_encoder_gender.fit_transform(data['Gender'])\n",
        "data['Workout_Type'] = label_encoder_workout_type.fit_transform(data['Workout_Type'])\n"
      ],
      "metadata": {
        "id": "kTRzR8-9T_B6"
      },
      "execution_count": null,
      "outputs": []
    },
    {
      "cell_type": "code",
      "source": [
        "# Display changes\n",
        "print(data.head())\n",
        "print(data.dtypes)"
      ],
      "metadata": {
        "id": "Yfg60SSOUIB5"
      },
      "execution_count": null,
      "outputs": []
    },
    {
      "cell_type": "code",
      "source": [
        "# Check the correlation of the data\n",
        "sns.heatmap(data.corr(), annot=True)\n",
        "plt.show()"
      ],
      "metadata": {
        "id": "3xsFpwfGtxO9"
      },
      "execution_count": null,
      "outputs": []
    },
    {
      "cell_type": "code",
      "source": [
        "# Get the features and target variables\n",
        "X = data.drop('Water_Intake (liters)', axis=1)\n",
        "y = data['Water_Intake (liters)']"
      ],
      "metadata": {
        "id": "r2WhoKfXuSmu"
      },
      "execution_count": null,
      "outputs": []
    },
    {
      "cell_type": "code",
      "source": [
        "# MinMax Scaling (optional - use only if needed)\n",
        "scaler = MinMaxScaler()\n",
        "X_scaled = scaler.fit_transform(X)\n"
      ],
      "metadata": {
        "id": "yrQfjG_3w7M1"
      },
      "execution_count": null,
      "outputs": []
    },
    {
      "cell_type": "code",
      "source": [
        "# Standard Scaling (recommended for most algorithms)\n",
        "scaler = StandardScaler()\n",
        "X_scaled = scaler.fit_transform(X)\n",
        "joblib.dump(scaler, 'scaler.joblib')  # Save the scaler"
      ],
      "metadata": {
        "id": "ebm5oUCO4Qac"
      },
      "execution_count": null,
      "outputs": []
    },
    {
      "cell_type": "code",
      "source": [
        "# Split the data into training and testing sets\n",
        "X_train, X_test, y_train, y_test = train_test_split(X, y, test_size=0.3, random_state=42)\n",
        "\n",
        "# Print the shape of the training data\n",
        "print(X_train.shape)"
      ],
      "metadata": {
        "id": "ZPALcavrxBsd"
      },
      "execution_count": null,
      "outputs": []
    },
    {
      "cell_type": "code",
      "source": [
        "# Preprocessing: Impute missing values and one-hot encode categorical features\n",
        "preprocessor = ColumnTransformer(\n",
        "    transformers=[\n",
        "        ('num', SimpleImputer(strategy='mean'), ['Age', 'Height (m)', 'Weight (kg)']),  # Imputes missing numeric values\n",
        "        ('cat', OneHotEncoder(handle_unknown='ignore'), ['Gender', 'Workout_Type'])  # OneHot encodes categorical features and ignores unknown categories\n",
        "    ])\n"
      ],
      "metadata": {
        "id": "UubRVfk6khgN"
      },
      "execution_count": null,
      "outputs": []
    },
    {
      "cell_type": "code",
      "source": [
        "def calculate_metrics(y_test, y_pred, model_name):\n",
        "    mae = mean_absolute_error(y_test, y_pred)\n",
        "    mse = mean_squared_error(y_test, y_pred)\n",
        "    rmse = np.sqrt(mse)\n",
        "    r2 = metrics.r2_score(y_test, y_pred)\n",
        "\n",
        "    print(f\"\\n{model_name} Metrics:\")\n",
        "    print(f\"Mean Absolute Error (MAE): {mae:.4f}\")\n",
        "    print(f\"Mean Squared Error (MSE): {mse:.4f}\")\n",
        "    print(f\"Root Mean Squared Error (RMSE): {rmse:.4f}\")\n",
        "    print(f\"R-Squared (R²): {r2:.4f}\")\n",
        "    return mae, mse, rmse, r2"
      ],
      "metadata": {
        "id": "TCFdPz2uxKxC"
      },
      "execution_count": null,
      "outputs": []
    },
    {
      "cell_type": "code",
      "source": [
        "# 1. Decision Tree Regressor\n",
        "\n",
        "from sklearn.tree import DecisionTreeRegressor\n",
        "from sklearn import metrics\n",
        "decision_tree = DecisionTreeRegressor()\n",
        "decision_tree.fit(X_train, y_train)\n",
        "decision_pred = decision_tree.predict(X_test)\n",
        "\n",
        "# R-squared error for Decision Tree\n",
        "decision_r2 = metrics.r2_score(y_test, decision_pred)\n",
        "print(\"Decision Tree - R squared error:\", decision_r2)\n",
        "\n",
        "# Mean Squared Error (MSE) for Decision Tree\n",
        "decision_mse = metrics.mean_squared_error(y_test, decision_pred)\n",
        "print(\"Decision Tree - Mean Squared Error (MSE):\", decision_mse)\n",
        "\n",
        "# Root Mean Squared Error (RMSE) for Decision Tree\n",
        "decision_rmse = np.sqrt(decision_mse)\n",
        "print(\"Decision Tree - Root Mean Squared Error (RMSE):\", decision_rmse)"
      ],
      "metadata": {
        "id": "KMHeo8u9Xph1"
      },
      "execution_count": null,
      "outputs": []
    },
    {
      "cell_type": "code",
      "source": [
        "#Linear Regression\n",
        "\n",
        "linear_reg = LinearRegression()\n",
        "linear_reg.fit(X_train, y_train)\n",
        "linear_pred = linear_reg.predict(X_test)\n",
        "\n",
        "# R-squared error for Linear Regression\n",
        "linear_r2 = metrics.r2_score(y_test, linear_pred)\n",
        "print(\"Linear Regression - R squared error:\", linear_r2)\n",
        "\n",
        "# Mean Squared Error (MSE) for Linear Regression\n",
        "linear_mse = metrics.mean_squared_error(y_test, linear_pred)\n",
        "print(\"Linear Regression - Mean Squared Error (MSE):\", linear_mse)\n",
        "\n",
        "# Root Mean Squared Error (RMSE) for Linear Regression\n",
        "linear_rmse = np.sqrt(linear_mse)\n",
        "print(\"Linear Regression - Root Mean Squared Error (RMSE):\", linear_rmse)"
      ],
      "metadata": {
        "id": "N3jTA7vWZBvZ"
      },
      "execution_count": null,
      "outputs": []
    },
    {
      "cell_type": "code",
      "source": [
        "# 3. Random Forest Regressor\n",
        "random_forest = RandomForestRegressor()\n",
        "random_forest.fit(X_train, y_train)\n",
        "random_pred = random_forest.predict(X_test)\n",
        "\n",
        "# R-squared error for Random Forest\n",
        "random_r2 = metrics.r2_score(y_test, random_pred)\n",
        "print(\"Random Forest - R squared error:\", random_r2)\n",
        "\n",
        "# Mean Squared Error (MSE) for Random Forest\n",
        "random_mse = metrics.mean_squared_error(y_test, random_pred)\n",
        "print(\"Random Forest - Mean Squared Error (MSE):\", random_mse)\n",
        "\n",
        "# Root Mean Squared Error (RMSE) for Random Forest\n",
        "random_rmse = np.sqrt(random_mse)\n",
        "print(\"Random Forest - Root Mean Squared Error (RMSE):\", random_rmse)"
      ],
      "metadata": {
        "id": "INhYDZNUZLEw"
      },
      "execution_count": null,
      "outputs": []
    },
    {
      "cell_type": "code",
      "source": [
        "\n",
        "\n",
        "# Preprocessing: Encode categorical features and handle missing values\n",
        "preprocessor = ColumnTransformer(\n",
        "    transformers=[\n",
        "        ('num', SimpleImputer(strategy='mean'), ['Age', 'Height (m)', 'Weight (kg)']),  # Handle numerical features\n",
        "        ('cat', OneHotEncoder(), ['Gender', 'Workout_Type'])  # One-hot encode categorical features\n",
        "    ])"
      ],
      "metadata": {
        "id": "Rn5ajxEWfS14"
      },
      "execution_count": null,
      "outputs": []
    },
    {
      "cell_type": "code",
      "source": [
        "# Build the model pipeline\n",
        "model_pipeline = Pipeline(steps=[\n",
        "    ('preprocessor', preprocessor),\n",
        "    ('model', RandomForestRegressor(random_state=42)) ])"
      ],
      "metadata": {
        "id": "NDjNX6FgfWne"
      },
      "execution_count": null,
      "outputs": []
    },
    {
      "cell_type": "code",
      "source": [
        "# Fit the model pipeline on the training data\n",
        "model_pipeline.fit(X_train, y_train)"
      ],
      "metadata": {
        "id": "AmnX-GgdiECF"
      },
      "execution_count": null,
      "outputs": []
    },
    {
      "cell_type": "code",
      "source": [
        "# Save the trained model using joblib\n",
        "import joblib\n",
        "joblib.dump(model_pipeline, 'random_forest_model.joblib')\n",
        "\n",
        "print(\"Model trained and saved successfully.\")"
      ],
      "metadata": {
        "id": "4o6dh16xfuE_"
      },
      "execution_count": null,
      "outputs": []
    },
    {
      "cell_type": "code",
      "source": [],
      "metadata": {
        "id": "xVY-Lrz6ft6z"
      },
      "execution_count": null,
      "outputs": []
    },
    {
      "cell_type": "code",
      "source": [
        "# Recreate LabelEncoder and fit it on all categories (must match training data)\n",
        "label_encoder_gender = LabelEncoder()\n",
        "label_encoder_workout_type = LabelEncoder()\n",
        "\n",
        "# These should have been fitted on the entire dataset during training\n",
        "# Assuming you know the categories present in your training data\n",
        "label_encoder_gender.fit(['male', 'female'])\n",
        "label_encoder_workout_type.fit(['sedentary', 'light', 'moderate', 'heavy'])\n",
        "\n",
        "# Load the trained Random Forest model (if saved previously)\n",
        "# Assuming the model was saved as 'random_forest_model.joblib'\n",
        "try:\n",
        "    model_pipeline = joblib.load('random_forest_model.joblib')  # Load your trained RandomForest model\n",
        "    print(\"Model loaded successfully!\")\n",
        "except FileNotFoundError:\n",
        "    print(\"Error: Model file not found. Please ensure the model is saved correctly.\")\n",
        "\n",
        "# Function to validate user inputs\n",
        "def get_valid_input(prompt, min_val, max_val, dtype=float):\n",
        "    while True:\n",
        "        try:\n",
        "            value = dtype(input(prompt))\n",
        "            if min_val <= value <= max_val:\n",
        "                return value\n",
        "            else:\n",
        "                print(f\"Value must be between {min_val} and {max_val}. Try again.\")\n",
        "        except ValueError:\n",
        "            print(\"Invalid input. Please enter a number.\")\n",
        "\n",
        "# Prompt user for input\n",
        "print(\"\\nEnter the following details to predict your daily water intake:\")\n",
        "\n",
        "age = get_valid_input(\"Age (0-120 years): \", 0, 120, int)\n",
        "\n",
        "gender = input(\"Gender (Male/Female): \").strip().lower()\n",
        "while gender not in ['male', 'female']:\n",
        "    print(\"Invalid input. Please enter 'Male' or 'Female'.\")\n",
        "    gender = input(\"Gender (Male/Female): \").strip().lower()\n",
        "\n",
        "# Encode gender input\n",
        "encoded_gender = label_encoder_gender.transform([gender])[0]\n",
        "\n",
        "height = get_valid_input(\"Height (in meters, 0.5-2.5): \", 0.5, 2.5)\n",
        "\n",
        "weight = get_valid_input(\"Weight (in kg, 10-300): \", 10, 300)\n",
        "\n",
        "work_type = input(\"Workout Type (Sedentary/Light/Moderate/Heavy): \").strip().lower()\n",
        "while work_type not in ['sedentary', 'light', 'moderate', 'heavy']:\n",
        "    print(\"Invalid input. Please enter 'Sedentary', 'Light', 'Moderate', or 'Heavy'.\")\n",
        "    work_type = input(\"Workout Type (Sedentary/Light/Moderate/Heavy): \").strip().lower()\n",
        "\n",
        "# Encode workout type input\n",
        "encoded_work_type = label_encoder_workout_type.transform([work_type])[0]\n",
        "\n",
        "# Prepare user input for prediction\n",
        "input_data = {\n",
        "    'Age': [age],\n",
        "    'Height (m)': [height],\n",
        "    'Weight (kg)': [weight],\n",
        "    'Gender': [encoded_gender],  # Use encoded value for gender\n",
        "    'Workout_Type': [encoded_work_type]  # Use encoded value for workout type\n",
        "}\n",
        "\n",
        "# Convert to DataFrame\n",
        "input_df = pd.DataFrame(input_data)\n",
        "\n",
        "# Predict the target value (daily water intake)\n",
        "try:\n",
        "    prediction = model_pipeline.predict(input_df)  # Use the Random Forest model to make predictions\n",
        "    print(f\"\\nPredicted daily water intake: {prediction[0]:.2f} liters\")\n",
        "except Exception as e:\n",
        "    print(f\"An error occurred during prediction: {e}\")\n"
      ],
      "metadata": {
        "id": "R2D7ndATcIKi",
        "colab": {
          "base_uri": "https://localhost:8080/"
        },
        "outputId": "e6a37092-faa1-4d10-96c7-d093bfa174e9"
      },
      "execution_count": null,
      "outputs": [
        {
          "name": "stdout",
          "output_type": "stream",
          "text": [
            "Model loaded successfully!\n",
            "\n",
            "Enter the following details to predict your daily water intake:\n",
            "Age (0-120 years): 55\n"
          ]
        }
      ]
    }
  ]
}